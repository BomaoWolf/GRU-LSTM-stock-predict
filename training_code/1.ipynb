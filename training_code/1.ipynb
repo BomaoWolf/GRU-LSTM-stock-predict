{
 "cells": [
  {
   "cell_type": "code",
   "execution_count": 1,
   "id": "chemical-acrylic",
   "metadata": {},
   "outputs": [
    {
     "name": "stdout",
     "output_type": "stream",
     "text": [
      "     timestamp  open (USD)  high (USD)  low (USD)  close (USD)  open (USD).1  \\\n",
      "0    2021/4/20    55633.14    55792.15   54630.96     54716.85      55633.14   \n",
      "1    2021/4/19    56150.01    57526.81   54221.58     55633.14      56150.01   \n",
      "2    2021/4/18    60006.67    60499.00   50931.30     56150.01      60006.67   \n",
      "3    2021/4/17    61334.81    62506.05   59580.91     60006.66      61334.81   \n",
      "4    2021/4/16    63158.74    63520.61   60000.00     61334.80      63158.74   \n",
      "..         ...         ...         ...        ...          ...           ...   \n",
      "995  2018/7/30     8210.99     8273.00    7866.00      8173.92       8210.99   \n",
      "996  2018/7/29     8225.04     8294.51    8115.00      8211.00       8225.04   \n",
      "997  2018/7/28     8188.57     8246.54    8067.00      8225.04       8188.57   \n",
      "998  2018/7/27     7920.00     8285.00    7805.00      8188.57       7920.00   \n",
      "999  2018/7/26     8175.63     8315.69    7850.06      7920.00       8175.63   \n",
      "\n",
      "     high (USD).1  low (USD).1  close (USD).1         volume  market cap (USD)  \n",
      "0        55792.15     54630.96       54716.85    3075.067211       3075.067211  \n",
      "1        57526.81     54221.58       55633.14   78229.042270      78229.042270  \n",
      "2        60499.00     50931.30       56150.01  124882.131800     124882.131800  \n",
      "3        62506.05     59580.91       60006.66   58912.256130      58912.256130  \n",
      "4        63520.61     60000.00       61334.80   91764.139880      91764.139880  \n",
      "..            ...          ...            ...            ...               ...  \n",
      "995       8273.00      7866.00        8173.92   39692.416540      39692.416540  \n",
      "996       8294.51      8115.00        8211.00   25531.226190      25531.226190  \n",
      "997       8246.54      8067.00        8225.04   26215.173840      26215.173840  \n",
      "998       8285.00      7805.00        8188.57   43671.005890      43671.005890  \n",
      "999       8315.69      7850.06        7920.00   43223.481680      43223.481680  \n",
      "\n",
      "[1000 rows x 11 columns]\n"
     ]
    }
   ],
   "source": [
    "import numpy as np\n",
    "import tensorflow as tf\n",
    "from tensorflow.keras.layers import Dropout, Dense, GRU, LSTM\n",
    "import matplotlib.pyplot as plt\n",
    "import os\n",
    "import pandas as pd\n",
    "from sklearn.preprocessing import MinMaxScaler\n",
    "from sklearn.metrics import mean_squared_error, mean_absolute_error\n",
    "from keras.models import Sequential\n",
    "import math\n",
    "\n",
    "\n",
    "file=\"D:\\currency_daily_BTC_USD.csv\"\n",
    "data=pd.read_csv(file)\n",
    "\n",
    "print(data)"
   ]
  },
  {
   "cell_type": "code",
   "execution_count": 2,
   "id": "royal-gross",
   "metadata": {},
   "outputs": [
    {
     "name": "stdout",
     "output_type": "stream",
     "text": [
      "800 200\n"
     ]
    }
   ],
   "source": [
    "close= data[\"close (USD)\"].values.astype('float32')\n",
    "close= close.reshape(-1,1)\n",
    "\n",
    "scaler = MinMaxScaler(feature_range=(0,1))\n",
    "close = scaler.fit_transform(close)\n",
    "\n",
    "train_size = int(len(close) * 0.80)\n",
    "test_size = len(close) - train_size\n",
    "train, test = close[0:train_size,:], close[train_size:len(close),:]\n",
    "print(len(train), len(test))\n",
    "\n",
    "\n",
    "\n"
   ]
  },
  {
   "cell_type": "code",
   "execution_count": 15,
   "id": "falling-pastor",
   "metadata": {},
   "outputs": [
    {
     "ename": "NameError",
     "evalue": "name 'testX' is not defined",
     "output_type": "error",
     "traceback": [
      "\u001b[1;31m---------------------------------------------------------------------------\u001b[0m",
      "\u001b[1;31mNameError\u001b[0m                                 Traceback (most recent call last)",
      "\u001b[1;32m<ipython-input-15-194943a10237>\u001b[0m in \u001b[0;36m<module>\u001b[1;34m\u001b[0m\n\u001b[0;32m     20\u001b[0m \u001b[1;31m#print('compilation time : ', time.time() - start)\u001b[0m\u001b[1;33m\u001b[0m\u001b[1;33m\u001b[0m\u001b[1;33m\u001b[0m\u001b[0m\n\u001b[0;32m     21\u001b[0m \u001b[1;33m\u001b[0m\u001b[0m\n\u001b[1;32m---> 22\u001b[1;33m \u001b[0mprediction\u001b[0m \u001b[1;33m=\u001b[0m \u001b[0mmodel\u001b[0m\u001b[1;33m.\u001b[0m\u001b[0mpredict\u001b[0m\u001b[1;33m(\u001b[0m\u001b[0mtestX\u001b[0m\u001b[1;33m)\u001b[0m\u001b[1;33m\u001b[0m\u001b[1;33m\u001b[0m\u001b[0m\n\u001b[0m\u001b[0;32m     23\u001b[0m \u001b[0mprediction\u001b[0m \u001b[1;33m=\u001b[0m \u001b[0mscaler\u001b[0m\u001b[1;33m.\u001b[0m\u001b[0minverse_transform\u001b[0m\u001b[1;33m(\u001b[0m\u001b[0mprediction\u001b[0m\u001b[1;33m)\u001b[0m\u001b[1;33m\u001b[0m\u001b[1;33m\u001b[0m\u001b[0m\n\u001b[0;32m     24\u001b[0m \u001b[0mrealprice\u001b[0m \u001b[1;33m-\u001b[0m \u001b[0mscaler\u001b[0m\u001b[1;33m.\u001b[0m\u001b[0minverse_transform\u001b[0m\u001b[1;33m(\u001b[0m\u001b[0mtestY\u001b[0m\u001b[1;33m.\u001b[0m\u001b[0mreshape\u001b[0m\u001b[1;33m(\u001b[0m\u001b[1;33m-\u001b[0m\u001b[1;36m1\u001b[0m\u001b[1;33m,\u001b[0m\u001b[1;36m1\u001b[0m\u001b[1;33m)\u001b[0m\u001b[1;33m)\u001b[0m\u001b[1;33m\u001b[0m\u001b[1;33m\u001b[0m\u001b[0m\n",
      "\u001b[1;31mNameError\u001b[0m: name 'testX' is not defined"
     ]
    }
   ],
   "source": [
    "\n",
    "model = Sequential()\n",
    "\n",
    "model.add(LSTM(\n",
    "    100,\n",
    "    input_dim=1,\n",
    "    return_sequences=True))\n",
    "model.add(Dropout(0.2))\n",
    "\n",
    "model.add(LSTM(\n",
    "    100,\n",
    "    return_sequences=False))\n",
    "model.add(Dropout(0.2))\n",
    "\n",
    "model.add(Dense(\n",
    "    1))\n",
    "#model.add(Activation('linear'))\n",
    "\n",
    "#start = time.time()\n",
    "model.compile(loss='mse', optimizer='rmsprop')\n",
    "#print('compilation time : ', time.time() - start)\n",
    "\n",
    "prediction = model.predict(testX)\n",
    "prediction = scaler.inverse_transform(prediction)\n",
    "realprice - scaler.inverse_transform(testY.reshape(-1,1))\n",
    "\n"
   ]
  }
 ],
 "metadata": {
  "kernelspec": {
   "display_name": "Python 3",
   "language": "python",
   "name": "python3"
  },
  "language_info": {
   "codemirror_mode": {
    "name": "ipython",
    "version": 3
   },
   "file_extension": ".py",
   "mimetype": "text/x-python",
   "name": "python",
   "nbconvert_exporter": "python",
   "pygments_lexer": "ipython3",
   "version": "3.7.9"
  }
 },
 "nbformat": 4,
 "nbformat_minor": 5
}
