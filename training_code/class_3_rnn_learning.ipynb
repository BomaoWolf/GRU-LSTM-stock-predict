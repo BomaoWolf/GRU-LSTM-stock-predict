{
 "cells": [
  {
   "cell_type": "code",
   "execution_count": 2,
   "id": "presidential-whole",
   "metadata": {},
   "outputs": [],
   "source": [
    "try:\n",
    "    # %tensorflow_version only exists in Colob\n",
    "    %tensorflow_version 2.x\n",
    "except Exception:\n",
    "    pass"
   ]
  },
  {
   "cell_type": "code",
   "execution_count": 3,
   "id": "engaging-breast",
   "metadata": {},
   "outputs": [
    {
     "name": "stdout",
     "output_type": "stream",
     "text": [
      "2.4.1\n"
     ]
    }
   ],
   "source": [
    "import tensorflow as tf\n",
    "import numpy as np\n",
    "import matplotlib.pyplot as plt\n",
    "print(tf.__version__)"
   ]
  },
  {
   "cell_type": "code",
   "execution_count": 4,
   "id": "further-crawford",
   "metadata": {},
   "outputs": [
    {
     "name": "stdout",
     "output_type": "stream",
     "text": [
      "0\n",
      "1\n",
      "2\n",
      "3\n",
      "4\n",
      "5\n",
      "6\n",
      "7\n",
      "8\n",
      "9\n"
     ]
    }
   ],
   "source": [
    "#生成序列数据\n",
    "dataset = tf.data.Dataset.range(10)\n",
    "for val in dataset:\n",
    "    print(val.numpy())"
   ]
  },
  {
   "cell_type": "code",
   "execution_count": 9,
   "id": "chicken-feeling",
   "metadata": {},
   "outputs": [
    {
     "name": "stdout",
     "output_type": "stream",
     "text": [
      "0 1 2 3 \n",
      "4 \n",
      "1 2 3 4 \n",
      "5 \n",
      "2 3 4 5 \n",
      "6 \n",
      "3 4 5 6 \n",
      "7 \n",
      "4 5 6 7 \n",
      "8 \n",
      "5 6 7 8 \n",
      "9 \n"
     ]
    }
   ],
   "source": [
    "# 获得窗口数据，窗口大小为5\n",
    "dataset = tf.data.Dataset.range(10)\n",
    "dataset = dataset.window(5,shift=1,drop_remainder=True)\n",
    "for window_dataset in dataset:\n",
    "    for val in window_dataset:\n",
    "        print(val.numpy(),end=\" \")\n",
    "    print()\n",
    "    "
   ]
  },
  {
   "cell_type": "code",
   "execution_count": 7,
   "id": "presidential-hobby",
   "metadata": {},
   "outputs": [
    {
     "name": "stdout",
     "output_type": "stream",
     "text": [
      "[[4 5 6 7]\n",
      " [5 6 7 8]] [[8]\n",
      " [9]]\n",
      "[[2 3 4 5]\n",
      " [3 4 5 6]] [[6]\n",
      " [7]]\n",
      "[[0 1 2 3]\n",
      " [1 2 3 4]] [[4]\n",
      " [5]]\n"
     ]
    }
   ],
   "source": [
    "# 转为numpy列表\n",
    "dataset = tf.data.Dataset.range(10)\n",
    "dataset = dataset.window(5,shift=1,drop_remainder=True)\n",
    "dataset = dataset.flat_map(lambda window: window.batch(5))\n",
    "dataset = dataset.map(lambda window:(window[:-1],window[-1:]))\n",
    "dataset = dataset.shuffle(buffer_size=10)\n",
    "dataset = dataset.batch(2)#.prefetch(1)\n",
    "for x,y in dataset:\n",
    "    print(x.numpy(),y.numpy())"
   ]
  },
  {
   "cell_type": "code",
   "execution_count": null,
   "id": "interpreted-livestock",
   "metadata": {},
   "outputs": [],
   "source": []
  }
 ],
 "metadata": {
  "kernelspec": {
   "display_name": "Python 3",
   "language": "python",
   "name": "python3"
  },
  "language_info": {
   "codemirror_mode": {
    "name": "ipython",
    "version": 3
   },
   "file_extension": ".py",
   "mimetype": "text/x-python",
   "name": "python",
   "nbconvert_exporter": "python",
   "pygments_lexer": "ipython3",
   "version": "3.7.9"
  }
 },
 "nbformat": 4,
 "nbformat_minor": 5
}
