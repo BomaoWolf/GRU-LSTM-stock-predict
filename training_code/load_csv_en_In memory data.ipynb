{
 "cells": [
  {
   "cell_type": "code",
   "execution_count": 73,
   "id": "distinct-criminal",
   "metadata": {},
   "outputs": [],
   "source": [
    "import pandas as pd\n",
    "import numpy as np\n",
    "import matplotlib.pyplot as plt\n",
    "\n",
    "# Make numpy values easier to read.\n",
    "np.set_printoptions(precision=3, suppress=True)\n",
    "\n",
    "import tensorflow.keras\n",
    "import tensorflow as tf\n",
    "from tensorflow.keras import layers\n",
    "from tensorflow.keras.layers.experimental import preprocessing"
   ]
  },
  {
   "cell_type": "code",
   "execution_count": 60,
   "id": "incomplete-closer",
   "metadata": {},
   "outputs": [],
   "source": [
    "%config IPCompleter.greedy=True"
   ]
  },
  {
   "cell_type": "code",
   "execution_count": 61,
   "id": "selected-scanning",
   "metadata": {},
   "outputs": [
    {
     "data": {
      "text/html": [
       "<div>\n",
       "<style scoped>\n",
       "    .dataframe tbody tr th:only-of-type {\n",
       "        vertical-align: middle;\n",
       "    }\n",
       "\n",
       "    .dataframe tbody tr th {\n",
       "        vertical-align: top;\n",
       "    }\n",
       "\n",
       "    .dataframe thead th {\n",
       "        text-align: right;\n",
       "    }\n",
       "</style>\n",
       "<table border=\"1\" class=\"dataframe\">\n",
       "  <thead>\n",
       "    <tr style=\"text-align: right;\">\n",
       "      <th></th>\n",
       "      <th>DATE</th>\n",
       "      <th>SP500</th>\n",
       "    </tr>\n",
       "  </thead>\n",
       "  <tbody>\n",
       "    <tr>\n",
       "      <th>0</th>\n",
       "      <td>1491226200</td>\n",
       "      <td>2363.6101</td>\n",
       "    </tr>\n",
       "    <tr>\n",
       "      <th>1</th>\n",
       "      <td>1491226260</td>\n",
       "      <td>2364.1001</td>\n",
       "    </tr>\n",
       "    <tr>\n",
       "      <th>2</th>\n",
       "      <td>1491226320</td>\n",
       "      <td>2362.6799</td>\n",
       "    </tr>\n",
       "    <tr>\n",
       "      <th>3</th>\n",
       "      <td>1491226380</td>\n",
       "      <td>2364.3101</td>\n",
       "    </tr>\n",
       "    <tr>\n",
       "      <th>4</th>\n",
       "      <td>1491226440</td>\n",
       "      <td>2364.8501</td>\n",
       "    </tr>\n",
       "  </tbody>\n",
       "</table>\n",
       "</div>"
      ],
      "text/plain": [
       "         DATE      SP500\n",
       "0  1491226200  2363.6101\n",
       "1  1491226260  2364.1001\n",
       "2  1491226320  2362.6799\n",
       "3  1491226380  2364.3101\n",
       "4  1491226440  2364.8501"
      ]
     },
     "execution_count": 61,
     "metadata": {},
     "output_type": "execute_result"
    }
   ],
   "source": [
    "abalone_train = pd.read_csv(\n",
    "    \"D:\\data_sp500_only_no_title.csv\",\n",
    "    dtype={'DATE':int,'SP500':float},\n",
    "    names=[\"DATE\", \"SP500\"])\n",
    "\n",
    "abalone_train.head()"
   ]
  },
  {
   "cell_type": "code",
   "execution_count": 62,
   "id": "fifteen-white",
   "metadata": {},
   "outputs": [],
   "source": [
    "# abalone_train['SP500'] = pd.to_numeric(abalone_train['SP500'], errors='ignore')\n",
    "# abalone_train['SP500'].dtype\n",
    "# abalone_train['SP500']"
   ]
  },
  {
   "cell_type": "code",
   "execution_count": 63,
   "id": "united-stretch",
   "metadata": {},
   "outputs": [
    {
     "name": "stdout",
     "output_type": "stream",
     "text": [
      "0        2363.6101\n",
      "1        2364.1001\n",
      "2        2362.6799\n",
      "3        2364.3101\n",
      "4        2364.8501\n",
      "           ...    \n",
      "41261    2472.2200\n",
      "41262    2471.7700\n",
      "41263    2470.0300\n",
      "41264    2471.4900\n",
      "41265    2471.4900\n",
      "Name: SP500, Length: 41266, dtype: float64\n",
      "             DATE\n",
      "0      1491226200\n",
      "1      1491226260\n",
      "2      1491226320\n",
      "3      1491226380\n",
      "4      1491226440\n",
      "...           ...\n",
      "41261  1504209360\n",
      "41262  1504209420\n",
      "41263  1504209480\n",
      "41264  1504209540\n",
      "41265  1504209600\n",
      "\n",
      "[41266 rows x 1 columns]\n"
     ]
    }
   ],
   "source": [
    "abalone_features = abalone_train.copy()\n",
    "abalone_labels = abalone_features.pop('SP500')\n",
    "print(abalone_labels)\n",
    "print(abalone_features)\n",
    "abalone_features_train = abalone_features[:-10000]\n",
    "abalone_labels_train = abalone_labels[:-10000]\n",
    "abalone_features_test = abalone_features[-10000:]\n",
    "abalone_labels_test = abalone_labels[-10000:]"
   ]
  },
  {
   "cell_type": "code",
   "execution_count": 64,
   "id": "external-cuisine",
   "metadata": {},
   "outputs": [
    {
     "data": {
      "text/plain": [
       "array([[1491226200],\n",
       "       [1491226260],\n",
       "       [1491226320],\n",
       "       ...,\n",
       "       [1501171980],\n",
       "       [1501172040],\n",
       "       [1501172100]])"
      ]
     },
     "execution_count": 64,
     "metadata": {},
     "output_type": "execute_result"
    }
   ],
   "source": [
    "abalone_features_train = np.array(abalone_features_train)\n",
    "abalone_features_train"
   ]
  },
  {
   "cell_type": "code",
   "execution_count": 65,
   "id": "vital-cleaning",
   "metadata": {},
   "outputs": [],
   "source": [
    "normalize = preprocessing.Normalization()\n",
    "normalize.adapt(abalone_features_train)\n",
    "\n",
    "abalone_model = tf.keras.Sequential([\n",
    "    tf.keras.layers.Input(shape=(1)),\n",
    "    normalize,\n",
    "  layers.Dense(1),\n",
    "  layers.Dense(64),\n",
    "  layers.Dense(1)\n",
    "])\n",
    "\n",
    "#optimizer = tf.keras.optimizers.SGD(lr=1e-8,momentum=0.9)\n",
    "abalone_model.compile(loss=tf.keras.losses.Huber(),\n",
    " #           optimizer=optimizer,\n",
    "            metrics=['mae'])"
   ]
  },
  {
   "cell_type": "code",
   "execution_count": 70,
   "id": "challenging-measure",
   "metadata": {},
   "outputs": [
    {
     "name": "stdout",
     "output_type": "stream",
     "text": [
      "Epoch 1/100\n",
      "978/978 [==============================] - 1s 828us/step - loss: 10.4614 - mae: 10.9494\n",
      "Epoch 2/100\n",
      "978/978 [==============================] - 1s 855us/step - loss: 10.4525 - mae: 10.9403\n",
      "Epoch 3/100\n",
      "978/978 [==============================] - 1s 813us/step - loss: 10.4400 - mae: 10.9276\n",
      "Epoch 4/100\n",
      "978/978 [==============================] - 1s 796us/step - loss: 10.4440 - mae: 10.9316\n",
      "Epoch 5/100\n",
      "978/978 [==============================] - 1s 828us/step - loss: 10.4415 - mae: 10.9287\n",
      "Epoch 6/100\n",
      "978/978 [==============================] - 1s 687us/step - loss: 10.4539 - mae: 10.9420\n",
      "Epoch 7/100\n",
      "978/978 [==============================] - 1s 654us/step - loss: 10.4509 - mae: 10.9386\n",
      "Epoch 8/100\n",
      "978/978 [==============================] - 1s 720us/step - loss: 10.4576 - mae: 10.9454\n",
      "Epoch 9/100\n",
      "978/978 [==============================] - 1s 783us/step - loss: 10.4451 - mae: 10.9328\n",
      "Epoch 10/100\n",
      "978/978 [==============================] - 1s 772us/step - loss: 10.4551 - mae: 10.9429\n",
      "Epoch 11/100\n",
      "978/978 [==============================] - 1s 788us/step - loss: 10.4511 - mae: 10.9386\n",
      "Epoch 12/100\n",
      "978/978 [==============================] - 1s 819us/step - loss: 10.4471 - mae: 10.9345\n",
      "Epoch 13/100\n",
      "978/978 [==============================] - 1s 844us/step - loss: 10.4596 - mae: 10.9469\n",
      "Epoch 14/100\n",
      "978/978 [==============================] - 1s 801us/step - loss: 10.4516 - mae: 10.9389\n",
      "Epoch 15/100\n",
      "978/978 [==============================] - 1s 803us/step - loss: 10.4558 - mae: 10.9434\n",
      "Epoch 16/100\n",
      "978/978 [==============================] - 1s 764us/step - loss: 10.4428 - mae: 10.9299\n",
      "Epoch 17/100\n",
      "978/978 [==============================] - 1s 773us/step - loss: 10.4502 - mae: 10.9380\n",
      "Epoch 18/100\n",
      "978/978 [==============================] - 1s 763us/step - loss: 10.4424 - mae: 10.9294\n",
      "Epoch 19/100\n",
      "978/978 [==============================] - 1s 796us/step - loss: 10.4472 - mae: 10.9349\n",
      "Epoch 20/100\n",
      "978/978 [==============================] - 1s 801us/step - loss: 10.4490 - mae: 10.9366\n",
      "Epoch 21/100\n",
      "978/978 [==============================] - 1s 871us/step - loss: 10.4519 - mae: 10.9395\n",
      "Epoch 22/100\n",
      "978/978 [==============================] - 1s 865us/step - loss: 10.4560 - mae: 10.9431\n",
      "Epoch 23/100\n",
      "978/978 [==============================] - 1s 872us/step - loss: 10.4498 - mae: 10.9375\n",
      "Epoch 24/100\n",
      "978/978 [==============================] - 1s 876us/step - loss: 10.4421 - mae: 10.9295\n",
      "Epoch 25/100\n",
      "978/978 [==============================] - 1s 831us/step - loss: 10.4535 - mae: 10.9408\n",
      "Epoch 26/100\n",
      "978/978 [==============================] - 1s 801us/step - loss: 10.4531 - mae: 10.9410\n",
      "Epoch 27/100\n",
      "978/978 [==============================] - 1s 795us/step - loss: 10.4463 - mae: 10.9340\n",
      "Epoch 28/100\n",
      "978/978 [==============================] - 1s 799us/step - loss: 10.4556 - mae: 10.9433\n",
      "Epoch 29/100\n",
      "978/978 [==============================] - 1s 805us/step - loss: 10.4563 - mae: 10.9442\n",
      "Epoch 30/100\n",
      "978/978 [==============================] - 1s 799us/step - loss: 10.4407 - mae: 10.9283\n",
      "Epoch 31/100\n",
      "978/978 [==============================] - 1s 804us/step - loss: 10.4459 - mae: 10.9332\n",
      "Epoch 32/100\n",
      "978/978 [==============================] - 1s 802us/step - loss: 10.4462 - mae: 10.9332\n",
      "Epoch 33/100\n",
      "978/978 [==============================] - 1s 800us/step - loss: 10.4509 - mae: 10.9384\n",
      "Epoch 34/100\n",
      "978/978 [==============================] - 1s 810us/step - loss: 10.4489 - mae: 10.9364\n",
      "Epoch 35/100\n",
      "978/978 [==============================] - 1s 795us/step - loss: 10.4446 - mae: 10.9317\n",
      "Epoch 36/100\n",
      "978/978 [==============================] - 1s 804us/step - loss: 10.4450 - mae: 10.9323\n",
      "Epoch 37/100\n",
      "978/978 [==============================] - 1s 806us/step - loss: 10.4496 - mae: 10.9372\n",
      "Epoch 38/100\n",
      "978/978 [==============================] - 1s 802us/step - loss: 10.4572 - mae: 10.9449\n",
      "Epoch 39/100\n",
      "978/978 [==============================] - 1s 801us/step - loss: 10.4533 - mae: 10.9413\n",
      "Epoch 40/100\n",
      "978/978 [==============================] - 1s 800us/step - loss: 10.4519 - mae: 10.9397\n",
      "Epoch 41/100\n",
      "978/978 [==============================] - 1s 795us/step - loss: 10.4546 - mae: 10.9422\n",
      "Epoch 42/100\n",
      "978/978 [==============================] - 1s 810us/step - loss: 10.4491 - mae: 10.9368\n",
      "Epoch 43/100\n",
      "978/978 [==============================] - 1s 805us/step - loss: 10.4566 - mae: 10.9441\n",
      "Epoch 44/100\n",
      "978/978 [==============================] - 1s 818us/step - loss: 10.4654 - mae: 10.9532\n",
      "Epoch 45/100\n",
      "978/978 [==============================] - 1s 801us/step - loss: 10.4699 - mae: 10.9579\n",
      "Epoch 46/100\n",
      "978/978 [==============================] - 1s 804us/step - loss: 10.4483 - mae: 10.9358\n",
      "Epoch 47/100\n",
      "978/978 [==============================] - 1s 799us/step - loss: 10.4547 - mae: 10.9424\n",
      "Epoch 48/100\n",
      "978/978 [==============================] - 1s 801us/step - loss: 10.4430 - mae: 10.9311\n",
      "Epoch 49/100\n",
      "978/978 [==============================] - 1s 806us/step - loss: 10.4408 - mae: 10.9284\n",
      "Epoch 50/100\n",
      "978/978 [==============================] - 1s 805us/step - loss: 10.4587 - mae: 10.9458\n",
      "Epoch 51/100\n",
      "978/978 [==============================] - 1s 807us/step - loss: 10.4626 - mae: 10.9503\n",
      "Epoch 52/100\n",
      "978/978 [==============================] - 1s 804us/step - loss: 10.4523 - mae: 10.9399\n",
      "Epoch 53/100\n",
      "978/978 [==============================] - 1s 795us/step - loss: 10.4430 - mae: 10.9309\n",
      "Epoch 54/100\n",
      "978/978 [==============================] - 1s 805us/step - loss: 10.4484 - mae: 10.9362\n",
      "Epoch 55/100\n",
      "978/978 [==============================] - 1s 800us/step - loss: 10.4464 - mae: 10.9339\n",
      "Epoch 56/100\n",
      "978/978 [==============================] - 1s 803us/step - loss: 10.4503 - mae: 10.9378\n",
      "Epoch 57/100\n",
      "978/978 [==============================] - 1s 804us/step - loss: 10.4484 - mae: 10.9361\n",
      "Epoch 58/100\n",
      "978/978 [==============================] - 1s 798us/step - loss: 10.4460 - mae: 10.9334\n",
      "Epoch 59/100\n",
      "978/978 [==============================] - 1s 800us/step - loss: 10.4549 - mae: 10.9423\n",
      "Epoch 60/100\n",
      "978/978 [==============================] - 1s 800us/step - loss: 10.4499 - mae: 10.9367\n",
      "Epoch 61/100\n",
      "978/978 [==============================] - 1s 845us/step - loss: 10.4448 - mae: 10.9324\n",
      "Epoch 62/100\n",
      "978/978 [==============================] - 1s 693us/step - loss: 10.4428 - mae: 10.9302\n",
      "Epoch 63/100\n",
      "978/978 [==============================] - 1s 755us/step - loss: 10.4506 - mae: 10.9379\n",
      "Epoch 64/100\n",
      "978/978 [==============================] - 1s 825us/step - loss: 10.4442 - mae: 10.9313\n",
      "Epoch 65/100\n",
      "978/978 [==============================] - 1s 808us/step - loss: 10.4495 - mae: 10.9374\n",
      "Epoch 66/100\n",
      "978/978 [==============================] - 1s 795us/step - loss: 10.4485 - mae: 10.9358\n",
      "Epoch 67/100\n",
      "978/978 [==============================] - 1s 801us/step - loss: 10.4427 - mae: 10.9300\n",
      "Epoch 68/100\n",
      "978/978 [==============================] - 1s 806us/step - loss: 10.4545 - mae: 10.9418\n",
      "Epoch 69/100\n",
      "978/978 [==============================] - 1s 804us/step - loss: 10.4523 - mae: 10.9399\n",
      "Epoch 70/100\n",
      "978/978 [==============================] - 1s 798us/step - loss: 10.4430 - mae: 10.9301\n",
      "Epoch 71/100\n",
      "978/978 [==============================] - 1s 801us/step - loss: 10.4510 - mae: 10.9387\n",
      "Epoch 72/100\n",
      "978/978 [==============================] - 1s 801us/step - loss: 10.4487 - mae: 10.9361\n",
      "Epoch 73/100\n",
      "978/978 [==============================] - 1s 799us/step - loss: 10.4512 - mae: 10.9390\n",
      "Epoch 74/100\n",
      "978/978 [==============================] - 1s 809us/step - loss: 10.4519 - mae: 10.9396\n",
      "Epoch 75/100\n",
      "978/978 [==============================] - 1s 799us/step - loss: 10.4506 - mae: 10.9384\n",
      "Epoch 76/100\n",
      "978/978 [==============================] - 1s 808us/step - loss: 10.4479 - mae: 10.9350\n",
      "Epoch 77/100\n",
      "978/978 [==============================] - 1s 810us/step - loss: 10.4535 - mae: 10.9410\n",
      "Epoch 78/100\n",
      "978/978 [==============================] - 1s 803us/step - loss: 10.4546 - mae: 10.9425\n",
      "Epoch 79/100\n",
      "978/978 [==============================] - 1s 804us/step - loss: 10.4375 - mae: 10.9249\n",
      "Epoch 80/100\n",
      "978/978 [==============================] - 1s 806us/step - loss: 10.4416 - mae: 10.9290\n",
      "Epoch 81/100\n",
      "978/978 [==============================] - 1s 807us/step - loss: 10.4417 - mae: 10.9292\n",
      "Epoch 82/100\n",
      "978/978 [==============================] - 1s 810us/step - loss: 10.4481 - mae: 10.9357\n",
      "Epoch 83/100\n",
      "978/978 [==============================] - 1s 820us/step - loss: 10.4536 - mae: 10.9412\n",
      "Epoch 84/100\n",
      "978/978 [==============================] - 1s 803us/step - loss: 10.4425 - mae: 10.9295\n",
      "Epoch 85/100\n",
      "978/978 [==============================] - 1s 801us/step - loss: 10.4500 - mae: 10.9374\n",
      "Epoch 86/100\n",
      "978/978 [==============================] - 1s 799us/step - loss: 10.4454 - mae: 10.9328\n",
      "Epoch 87/100\n",
      "978/978 [==============================] - 1s 813us/step - loss: 10.4597 - mae: 10.9470\n",
      "Epoch 88/100\n",
      "978/978 [==============================] - 1s 799us/step - loss: 10.4576 - mae: 10.9452\n",
      "Epoch 89/100\n",
      "978/978 [==============================] - 1s 803us/step - loss: 10.4572 - mae: 10.9444\n",
      "Epoch 90/100\n",
      "978/978 [==============================] - 1s 815us/step - loss: 10.4566 - mae: 10.9439\n",
      "Epoch 91/100\n",
      "978/978 [==============================] - 1s 806us/step - loss: 10.4575 - mae: 10.9448\n",
      "Epoch 92/100\n",
      "978/978 [==============================] - 1s 806us/step - loss: 10.4483 - mae: 10.9355\n",
      "Epoch 93/100\n",
      "978/978 [==============================] - 1s 807us/step - loss: 10.4488 - mae: 10.9361\n",
      "Epoch 94/100\n",
      "978/978 [==============================] - 1s 803us/step - loss: 10.4489 - mae: 10.9364\n",
      "Epoch 95/100\n",
      "978/978 [==============================] - 1s 808us/step - loss: 10.4402 - mae: 10.9277\n",
      "Epoch 96/100\n",
      "978/978 [==============================] - 1s 802us/step - loss: 10.4593 - mae: 10.9465\n",
      "Epoch 97/100\n",
      "978/978 [==============================] - 1s 801us/step - loss: 10.4567 - mae: 10.9441\n",
      "Epoch 98/100\n",
      "978/978 [==============================] - 1s 807us/step - loss: 10.4406 - mae: 10.9276\n",
      "Epoch 99/100\n",
      "978/978 [==============================] - 1s 801us/step - loss: 10.4514 - mae: 10.9390\n",
      "Epoch 100/100\n",
      "978/978 [==============================] - 1s 822us/step - loss: 10.4578 - mae: 10.9453\n"
     ]
    }
   ],
   "source": [
    "history = abalone_model.fit(abalone_features_train, abalone_labels_train, epochs=100)"
   ]
  },
  {
   "cell_type": "code",
   "execution_count": 67,
   "id": "fuzzy-hearts",
   "metadata": {},
   "outputs": [
    {
     "name": "stdout",
     "output_type": "stream",
     "text": [
      "{'loss': [2364.163818359375, 1993.76806640625, 942.9690551757812, 53.67709732055664, 10.45103931427002, 10.455896377563477, 10.439366340637207, 10.45239543914795, 10.451729774475098, 10.437686920166016], 'mae': [2364.663818359375, 1994.26806640625, 943.468994140625, 54.1688117980957, 10.938934326171875, 10.943652153015137, 10.926024436950684, 10.939628601074219, 10.938729286193848, 10.925466537475586]}\n"
     ]
    }
   ],
   "source": [
    "print(history.history)\n",
    "#plt.semilogx(history.history[\"lr\"],history.history[\"loss\"])\n",
    "#plt.axis([1e-8,1e-4,0,30])"
   ]
  },
  {
   "cell_type": "code",
   "execution_count": 68,
   "id": "immune-knock",
   "metadata": {},
   "outputs": [
    {
     "name": "stdout",
     "output_type": "stream",
     "text": [
      "313/313 [==============================] - 0s 648us/step - loss: 0.0000e+00 - mae: 0.0000e+00\n"
     ]
    },
    {
     "data": {
      "text/plain": [
       "[0.0, 0.0]"
      ]
     },
     "execution_count": 68,
     "metadata": {},
     "output_type": "execute_result"
    }
   ],
   "source": [
    "abalone_model.evaluate(abalone_features_test)"
   ]
  },
  {
   "cell_type": "code",
   "execution_count": 77,
   "id": "solid-storage",
   "metadata": {},
   "outputs": [
    {
     "ename": "SyntaxError",
     "evalue": "invalid syntax (<ipython-input-77-a506d2d5c94c>, line 2)",
     "output_type": "error",
     "traceback": [
      "\u001b[1;36m  File \u001b[1;32m\"<ipython-input-77-a506d2d5c94c>\"\u001b[1;36m, line \u001b[1;32m2\u001b[0m\n\u001b[1;33m    a = [0:10000]\u001b[0m\n\u001b[1;37m          ^\u001b[0m\n\u001b[1;31mSyntaxError\u001b[0m\u001b[1;31m:\u001b[0m invalid syntax\n"
     ]
    }
   ],
   "source": [
    "abalone_model_predict = abalone_model.predict(abalone_features_test)\n"
   ]
  },
  {
   "cell_type": "code",
   "execution_count": 81,
   "id": "apart-domain",
   "metadata": {},
   "outputs": [
    {
     "data": {
      "text/plain": [
       "[<matplotlib.lines.Line2D at 0x2dbde90ec08>]"
      ]
     },
     "execution_count": 81,
     "metadata": {},
     "output_type": "execute_result"
    },
    {
     "data": {
      "image/png": "[encoded data removed]",
      "text/plain": [
       "<Figure size 432x288 with 1 Axes>"
      ]
     },
     "metadata": {
      "needs_background": "light"
     },
     "output_type": "display_data"
    }
   ],
   "source": [
    "plt.plot(abalone_labels_test,'r')\n",
    "plt.plot(np.linspace(31200,41200,10000),abalone_model_predict,'b')\n",
    "plt.plot(abalone_labels_train,'g')"
   ]
  }
 ],
 "metadata": {
  "kernelspec": {
   "display_name": "Python 3",
   "language": "python",
   "name": "python3"
  },
  "language_info": {
   "codemirror_mode": {
    "name": "ipython",
    "version": 3
   },
   "file_extension": ".py",
   "mimetype": "text/x-python",
   "name": "python",
   "nbconvert_exporter": "python",
   "pygments_lexer": "ipython3",
   "version": "3.7.9"
  }
 },
 "nbformat": 4,
 "nbformat_minor": 5
}
